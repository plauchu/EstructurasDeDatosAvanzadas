{
 "cells": [
  {
   "cell_type": "code",
   "execution_count": 60,
   "metadata": {},
   "outputs": [],
   "source": [
    "def pattern (cases):\n",
    "    if (cases > 0 and cases < 100):\n",
    "        c = 0\n",
    "        while (c < cases):\n",
    "            str1 = str(input(\"Introduce the first word: \"))\n",
    "            str2 = str(input(\"Introduce the second word: \"))\n",
    "            \n",
    "            A = sorted(str1)\n",
    "            B = sorted(str2)\n",
    "            \n",
    "            band = True\n",
    "            i = 0\n",
    "            \n",
    "            while (band and i < len(str1)):\n",
    "                if(A[i] in B):\n",
    "                    i += 1\n",
    "                else:\n",
    "                    band = False\n",
    "            print(band)\n",
    "            c += 1"
   ]
  },
  {
   "cell_type": "code",
   "execution_count": 63,
   "metadata": {},
   "outputs": [
    {
     "name": "stdout",
     "output_type": "stream",
     "text": [
      "Introduce the first word: hulk\n",
      "Introduce the second word: mounthulk\n",
      "True\n",
      "Introduce the first word: teddy\n",
      "Introduce the second word: come\n",
      "False\n",
      "Introduce the first word: coder\n",
      "Introduce the second word: urredoc\n",
      "True\n"
     ]
    }
   ],
   "source": [
    "pattern(3)"
   ]
  },
  {
   "cell_type": "code",
   "execution_count": 71,
   "metadata": {},
   "outputs": [
    {
     "name": "stdout",
     "output_type": "stream",
     "text": [
      "3\n"
     ]
    }
   ],
   "source": [
    "#Python program to find the largest\n",
    "# subset where each pair is divisible.\n",
    " \n",
    "# function to find the longest Subsequence\n",
    "def largestSubset(a, n):\n",
    "     \n",
    "    # dp[i] is going to store size\n",
    "    # of largest divisible subset\n",
    "    # beginning with a[i].\n",
    "    dp = [0 for i in range(n)]\n",
    "     \n",
    "    # Since last element is largest,\n",
    "    # d[n-1] is 1\n",
    "    dp[n - 1] = 1;\n",
    " \n",
    "    # Fill values for smaller elements\n",
    "    for i in range(n - 2, -1, -1):\n",
    "         \n",
    "        # Find all multiples of a[i]\n",
    "        # and consider the multiple\n",
    "        # that has largest subset    \n",
    "        # beginning with it.\n",
    "        mxm = 0;\n",
    "        for j in range(i + 1, n):\n",
    "            if a[j] % a[i] == 0 or a[i] % a[j] == 0:\n",
    "                mxm = max(mxm, dp[j])\n",
    "        dp[i] = 1 + mxm\n",
    "         \n",
    "    # Return maximum value from dp[]\n",
    "    return max(dp)\n",
    " \n",
    "# Driver Code\n",
    "a = [1,2,4,6]\n",
    "n = len(a)\n",
    "print(largestSubset(a, n))\n",
    " \n",
    "# This code is contributed by\n",
    "# sahil shelangia"
   ]
  },
  {
   "cell_type": "code",
   "execution_count": 80,
   "metadata": {},
   "outputs": [
    {
     "data": {
      "text/plain": [
       "[0, 0, 1]"
      ]
     },
     "execution_count": 80,
     "metadata": {},
     "output_type": "execute_result"
    }
   ],
   "source": [
    "dp = [0 for i in range(3)]\n",
    "dp\n",
    "dp[3 - 1] = 1\n",
    "dp"
   ]
  },
  {
   "cell_type": "code",
   "execution_count": null,
   "metadata": {},
   "outputs": [],
   "source": []
  }
 ],
 "metadata": {
  "kernelspec": {
   "display_name": "Python 3",
   "language": "python",
   "name": "python3"
  },
  "language_info": {
   "codemirror_mode": {
    "name": "ipython",
    "version": 3
   },
   "file_extension": ".py",
   "mimetype": "text/x-python",
   "name": "python",
   "nbconvert_exporter": "python",
   "pygments_lexer": "ipython3",
   "version": "3.8.5"
  }
 },
 "nbformat": 4,
 "nbformat_minor": 4
}
